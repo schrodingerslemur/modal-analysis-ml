{
 "cells": [
  {
   "cell_type": "code",
   "execution_count": 2,
   "id": "0e8fefd3-00fd-48d2-84e9-4339fd1e7c77",
   "metadata": {},
   "outputs": [],
   "source": [
    "%load_ext autoreload\n",
    "%autoreload 2"
   ]
  },
  {
   "cell_type": "code",
   "execution_count": 1,
   "id": "b6b7787b-faae-42a4-a922-e35a07bd0b8b",
   "metadata": {},
   "outputs": [],
   "source": [
    "import pandas as pd"
   ]
  },
  {
   "cell_type": "code",
   "execution_count": 2,
   "id": "753a027b-5fe2-4f7a-8689-35e2b5b6e1fd",
   "metadata": {},
   "outputs": [],
   "source": [
    "import sys"
   ]
  },
  {
   "cell_type": "code",
   "execution_count": 3,
   "id": "e2bf3f39-f740-478e-a13f-5b6123a3cf32",
   "metadata": {},
   "outputs": [],
   "source": [
    "sys.path.append('../')"
   ]
  },
  {
   "cell_type": "code",
   "execution_count": 4,
   "id": "7d55790c-65f2-4c96-bb8b-2cff2a25f92c",
   "metadata": {},
   "outputs": [],
   "source": [
    "dat_prefix = '../../data/dats'\n",
    "inp_prefix = '../../data/inps'\n",
    "\n",
    "leaf = {\n",
    "    '3v363': '03_V363_Rotor',\n",
    "    'v769': '04_V769_Rotor',\n",
    "    '5v363': '05_V363_Rotor_dsg2',\n",
    "    'c346rs': 'C346RS_frnt_rotor_modal_separation_10Jun25',\n",
    "    'v801': 'V801_frnt_rotor_modal_separation_17Jun25'\n",
    "}\n",
    "\n",
    "def dat(key: str) -> str:\n",
    "    return dat_prefix + '/' + leaf[key] + '.dat'\n",
    "\n",
    "def inp(key: str) -> str:\n",
    "    return inp_prefix + '/' + leaf[key] + '.inp'\n",
    "\n",
    "def both(key: str):\n",
    "    return (dat(key), inp(key))"
   ]
  },
  {
   "cell_type": "code",
   "execution_count": 5,
   "id": "e6182e4d-9898-4c29-b7ca-e9565b2f59b5",
   "metadata": {},
   "outputs": [],
   "source": [
    "from analyser.modalAnalyser import ModalAnalyser\n",
    "from parser.datParser import DATParser\n",
    "from parser.inpParser import INPParser\n",
    "from parser.modalParser import ModalParser"
   ]
  },
  {
   "cell_type": "code",
   "execution_count": 9,
   "id": "5e59b853-8d1a-4264-a222-0e920341e015",
   "metadata": {},
   "outputs": [],
   "source": [
    "model = ModalParser(*both('v801'))\n",
    "analyser = ModalAnalyser(model)"
   ]
  },
  {
   "cell_type": "code",
   "execution_count": 133,
   "id": "1d06a6d0-8345-4669-af25-b12dd87674de",
   "metadata": {
    "scrolled": true
   },
   "outputs": [
    {
     "name": "stdout",
     "output_type": "stream",
     "text": [
      "In-plane modes: [43, 44, 64, 65, 69, 77]\n",
      "Near in-plane modes: [42, 45, 70, 71, 74, 75, 76, 78, 79]\n",
      "42 oop: 65.62157524965924 passed\n",
      "45 oop: 44.589447933072705 passed\n",
      "70 oop: 94.12572741361068 passed\n",
      "71 oop: 94.12432848459933 passed\n",
      "74 oop: 6.426250862960288 passed\n",
      "75 oop: 15.735282020072367 passed\n",
      "76 oop: 54.55761527431685 passed\n",
      "78 oop: 55.322563712589336 passed\n",
      "79 oop: 5.147278561957867 passed\n"
     ]
    },
    {
     "data": {
      "text/plain": [
       "True"
      ]
     },
     "execution_count": 133,
     "metadata": {},
     "output_type": "execute_result"
    }
   ],
   "source": [
    "analyser.check()"
   ]
  },
  {
   "cell_type": "code",
   "execution_count": 6,
   "id": "355781f5-93f2-4e5e-8c97-7c949823c3ce",
   "metadata": {},
   "outputs": [],
   "source": [
    "model = ModalParser(*both('c346rs'))\n",
    "analyser = ModalAnalyser(model)"
   ]
  },
  {
   "cell_type": "code",
   "execution_count": 7,
   "id": "8c077397-8da7-48dc-9d4a-ecadadbfc9e3",
   "metadata": {
    "scrolled": true
   },
   "outputs": [
    {
     "name": "stdout",
     "output_type": "stream",
     "text": [
      "6 (np.True_, np.float64(0.9999981880348765))\n",
      "46 (np.False_, np.float64(1.8197611471582153e-08))\n",
      "47 (np.False_, np.float64(2.6555849929082205e-07))\n",
      "68 (np.False_, np.float64(5.97488960221783e-06))\n",
      "69 (np.False_, np.float64(4.116589194577371e-06))\n",
      "73 (np.False_, np.float64(2.538314482357084e-05))\n",
      "74 (np.False_, np.float64(0.0002952412021300223))\n",
      "75 (np.True_, np.float64(0.9467315341113544))\n",
      "100 (np.False_, np.float64(2.5040155499186403e-07))\n",
      "101 (np.False_, np.float64(6.279193870752669e-07))\n",
      "129 (np.True_, np.float64(0.21251401977273646))\n"
     ]
    }
   ],
   "source": [
    "for i in range(1, 132):\n",
    "    if analyser.is_tangential(i):\n",
    "        print(i, analyser.is_rigid_rotation(i, rigid_ratio_thres=1e-1, return_ratio=True))"
   ]
  },
  {
   "cell_type": "code",
   "execution_count": 8,
   "id": "87ed8e89-36ae-42b3-812a-464774b63799",
   "metadata": {},
   "outputs": [
    {
     "name": "stdout",
     "output_type": "stream",
     "text": [
      "In-plane modes: [46, 47, 68, 69, 73, 74, 100, 101]\n",
      "Near in-plane modes: [64, 65, 66, 67, 70, 71, 72, 75, 76, 77, 99]\n",
      "64 oop: 95.83343048951669 passed\n",
      "failed here\n",
      "65 oop: 95.83343109838387 passed\n",
      "failed here\n",
      "66 oop: 40.08328606500776 passed\n",
      "67 oop: 40.08188844770941 passed\n",
      "70 oop: 0.9691565074584988 passed\n",
      "71 oop: 26.90025349962847 passed\n",
      "72 oop: 26.899207109899407 passed\n",
      "75 oop: 0.5360215702609913 passed\n",
      "76 oop: 22.429000926348476 passed\n",
      "77 oop: 23.330070876072128 passed\n",
      "99 oop: 80.32828492320894 passed\n"
     ]
    },
    {
     "data": {
      "text/plain": [
       "True"
      ]
     },
     "execution_count": 8,
     "metadata": {},
     "output_type": "execute_result"
    }
   ],
   "source": [
    "analyser.check(tangential=True)"
   ]
  }
 ],
 "metadata": {
  "kernelspec": {
   "display_name": "Python 3 (ipykernel)",
   "language": "python",
   "name": "python3"
  },
  "language_info": {
   "codemirror_mode": {
    "name": "ipython",
    "version": 3
   },
   "file_extension": ".py",
   "mimetype": "text/x-python",
   "name": "python",
   "nbconvert_exporter": "python",
   "pygments_lexer": "ipython3",
   "version": "3.12.9"
  }
 },
 "nbformat": 4,
 "nbformat_minor": 5
}
